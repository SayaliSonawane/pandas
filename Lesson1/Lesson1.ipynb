{
 "cells": [
  {
   "cell_type": "code",
   "execution_count": 11,
   "metadata": {
    "collapsed": true
   },
   "outputs": [],
   "source": [
    "##Import all libraries needed for the tutorial\n",
    "\n",
    "# General syntax to import specific functions in a library: \n",
    "##from (library) import (specific library function)\n",
    "from pandas import DataFrame, read_csv\n",
    "\n",
    "# General syntax to import a library but no functions: \n",
    "##import (library) as (give the library a nickname/alias)\n",
    "import matplotlib.pyplot as plt\n",
    "import pandas as pd #this is how I usually import pandas\n",
    "import sys #only needed to determine Python version number\n",
    "import matplotlib #only needed to determine Matplotlib version number\n",
    "\n",
    "# Enable inline plotting\n",
    "%matplotlib inline"
   ]
  },
  {
   "cell_type": "code",
   "execution_count": 7,
   "metadata": {
    "collapsed": false
   },
   "outputs": [
    {
     "name": "stdout",
     "output_type": "stream",
     "text": [
      "Python version 2.7.11 |Anaconda 4.0.0 (64-bit)| (default, Feb 16 2016, 09:58:36) [MSC v.1500 64 bit (AMD64)]\n",
      "Pandas version 0.18.0\n",
      "Matplotlib version 1.5.1\n"
     ]
    }
   ],
   "source": [
    "print('Python version ' + sys.version)\n",
    "print('Pandas version ' + pd.__version__)\n",
    "print('Matplotlib version ' + matplotlib.__version__)"
   ]
  },
  {
   "cell_type": "code",
   "execution_count": 8,
   "metadata": {
    "collapsed": false
   },
   "outputs": [
    {
     "name": "stdout",
     "output_type": "stream",
     "text": [
      "Initial set created...\n"
     ]
    }
   ],
   "source": [
    "##CREATE DATA\n",
    "# The inital set of baby names and bith rates\n",
    "names= ['Bob','Jessica','Mary','John','Mel']\n",
    "births= [968, 155, 77, 578, 973]\n",
    "print \"Initial set created...\""
   ]
  },
  {
   "cell_type": "code",
   "execution_count": 9,
   "metadata": {
    "collapsed": true
   },
   "outputs": [],
   "source": [
    "#Understanding zip function \n",
    "#works like a help function. Following command will display information regarding zip function (e.g. syntax and return type).\n",
    "zip?"
   ]
  },
  {
   "cell_type": "code",
   "execution_count": 10,
   "metadata": {
    "collapsed": false
   },
   "outputs": [
    {
     "name": "stdout",
     "output_type": "stream",
     "text": [
      "[('Bob', 968), ('Jessica', 155), ('Mary', 77), ('John', 578), ('Mel', 973)]\n"
     ]
    }
   ],
   "source": [
    "#Merge two lists[names,births] using zip function\n",
    "BabyDataSet=zip(names,births)\n",
    "#Display Dataset\n",
    "print BabyDataSet"
   ]
  },
  {
   "cell_type": "code",
   "execution_count": 12,
   "metadata": {
    "collapsed": false
   },
   "outputs": [
    {
     "name": "stdout",
     "output_type": "stream",
     "text": [
      "     Names  Births\n",
      "0      Bob     968\n",
      "1  Jessica     155\n",
      "2     Mary      77\n",
      "3     John     578\n",
      "4      Mel     973\n"
     ]
    }
   ],
   "source": [
    "#We are basically done creating the data set. We now will use the pandas library to export this data set into a csv file.\n",
    "#df will be a DataFrame object.\n",
    "#You can think of this object holding the contents of the BabyDataSet in a format similar to a sql table or an excel spreadsheet.\n",
    "#list->Dataframe conversion\n",
    "df = pd.DataFrame(data = BabyDataSet, columns=['Names', 'Births'])\n",
    "print df  #print dataframe object"
   ]
  },
  {
   "cell_type": "code",
   "execution_count": 13,
   "metadata": {
    "collapsed": true
   },
   "outputs": [],
   "source": [
    "#Understand to_csv function.Following command will display information regarding to_csv function.\n",
    "df.to_csv?"
   ]
  },
  {
   "cell_type": "code",
   "execution_count": 23,
   "metadata": {
    "collapsed": true
   },
   "outputs": [],
   "source": [
    "#Export the dataframe to a csv file. We can name the file births1880.csv.The function to_csv will be used to export the file. \n",
    "#The file will be saved in the same location of the working directory unless specified otherwise.\n",
    "#The only parameters we will use is index and header. \n",
    "#Setting these parameters to True will prevent the index and header names from being exported.\n",
    "#Change the values of these parameters to get a better understanding of their use.\n",
    "df.to_csv('births1880.csv',index=False,header=False)"
   ]
  },
  {
   "cell_type": "code",
   "execution_count": 17,
   "metadata": {
    "collapsed": false
   },
   "outputs": [
    {
     "name": "stdout",
     "output_type": "stream",
     "text": [
      "       Bob  968\n",
      "0  Jessica  155\n",
      "1     Mary   77\n",
      "2     John  578\n",
      "3      Mel  973\n"
     ]
    }
   ],
   "source": [
    "#Even though this functions has many parameters, we will simply pass it the location of the text file.\n",
    "Location = r'C:\\Users\\AlgoAnalytics1\\Desktop\\Learning Python Data Analysis\\births1880.csv'\n",
    "#Notice the r before the string. Since the slashes are special characters, prefixing the string with a r will escape the whole string.\n",
    "df = pd.read_csv(Location)\n",
    "print df"
   ]
  },
  {
   "cell_type": "code",
   "execution_count": 18,
   "metadata": {
    "collapsed": false
   },
   "outputs": [
    {
     "name": "stdout",
     "output_type": "stream",
     "text": [
      "         0    1\n",
      "0      Bob  968\n",
      "1  Jessica  155\n",
      "2     Mary   77\n",
      "3     John  578\n",
      "4      Mel  973\n"
     ]
    }
   ],
   "source": [
    "#This brings us the our first problem of the exercise.\n",
    "#The read_csv function treated the first record in the csv file as the header names. \n",
    "#This is obviously not correct since the text file did not provide us with header names.\n",
    "#To correct this we will pass the header parameter to the read_csv function and set it to None (means null in python).\n",
    "df = pd.read_csv(Location,header=None)\n",
    "print df"
   ]
  },
  {
   "cell_type": "code",
   "execution_count": 20,
   "metadata": {
    "collapsed": false
   },
   "outputs": [],
   "source": [
    "#If we wanted to give the columns specific names, we would have to pass another paramter called names.\n",
    "#We can also omit the header parameter.\n",
    "df = pd.read_csv(Location,names=['Names','Births'])\n"
   ]
  },
  {
   "cell_type": "code",
   "execution_count": 21,
   "metadata": {
    "collapsed": false
   },
   "outputs": [
    {
     "name": "stdout",
     "output_type": "stream",
     "text": [
      "     Names  Births\n",
      "0      Bob     968\n",
      "1  Jessica     155\n",
      "2     Mary      77\n",
      "3     John     578\n",
      "4      Mel     973\n"
     ]
    }
   ],
   "source": [
    "#Observe printed DataFrame:You can think of the numbers [0,1,2,3,4] as the row numbers in an Excel file.\n",
    "#In pandas these are part of the index of the dataframe.\n",
    "#You can think of the index as the primary key of a sql table with the exception that an index is allowed to have duplicates.\n",
    "#[Names, Births] can be though of as column headers similar to the ones found in an Excel spreadsheet or sql database.\n",
    "print df"
   ]
  },
  {
   "cell_type": "code",
   "execution_count": 22,
   "metadata": {
    "collapsed": true
   },
   "outputs": [],
   "source": [
    "#Delete the csv file now that we are done using it.\n",
    "import os\n",
    "os.remove(Location)"
   ]
  },
  {
   "cell_type": "code",
   "execution_count": 27,
   "metadata": {
    "collapsed": false
   },
   "outputs": [
    {
     "data": {
      "text/plain": [
       "dtype('int64')"
      ]
     },
     "execution_count": 27,
     "metadata": {},
     "output_type": "execute_result"
    }
   ],
   "source": [
    "##PREPARE DATA\n",
    "#The data we have consists of baby names and the number of births in the year 1880. \n",
    "#We already know that we have 5 records and none of the records are missing (non-null values).\n",
    "#The Names column at this point is of no concern since it most likely is just composed of alpha numeric strings (baby names).\n",
    "#There is a chance of bad data in this column but we will not worry about that at this point of the analysis.\n",
    "#The Births column should just contain integers representing the number of babies born in a specific year with a specific name.\n",
    "#Check if the all the data is of the data type integer. It would not make sense to have this column have a data type of float. \n",
    "#I would not worry about any possible outliers at this point of the analysis.\n",
    "\n",
    "# Check data type of the columns\n",
    "df.dtypes\n",
    "# Check data type of Births column\n",
    "df.Births.dtype\n",
    "#Births column is of type int64, thus no floats (decimal no.)/alpha numeric characters will be present in this column.\n"
   ]
  },
  {
   "cell_type": "code",
   "execution_count": 31,
   "metadata": {
    "collapsed": false
   },
   "outputs": [],
   "source": [
    "##ANALYSE DATA\n",
    "#To find the most popular name or the baby name with the higest birth rate, we can do one of the following.\n",
    "#Method 1: Sort the dataframe and select the top row \n",
    "#Method 2: Use the max() attribute to find the maximum value"
   ]
  },
  {
   "cell_type": "code",
   "execution_count": 29,
   "metadata": {
    "collapsed": false
   },
   "outputs": [
    {
     "data": {
      "text/html": [
       "<div>\n",
       "<table border=\"1\" class=\"dataframe\">\n",
       "  <thead>\n",
       "    <tr style=\"text-align: right;\">\n",
       "      <th></th>\n",
       "      <th>Names</th>\n",
       "      <th>Births</th>\n",
       "    </tr>\n",
       "  </thead>\n",
       "  <tbody>\n",
       "    <tr>\n",
       "      <th>4</th>\n",
       "      <td>Mel</td>\n",
       "      <td>973</td>\n",
       "    </tr>\n",
       "  </tbody>\n",
       "</table>\n",
       "</div>"
      ],
      "text/plain": [
       "  Names  Births\n",
       "4   Mel     973"
      ]
     },
     "execution_count": 29,
     "metadata": {},
     "output_type": "execute_result"
    }
   ],
   "source": [
    "# Method 1:\n",
    "Sorted = df.sort_values(['Births'], ascending=False)\n",
    "Sorted.head(1)"
   ]
  },
  {
   "cell_type": "code",
   "execution_count": 32,
   "metadata": {
    "collapsed": false
   },
   "outputs": [
    {
     "data": {
      "text/plain": [
       "973"
      ]
     },
     "execution_count": 32,
     "metadata": {},
     "output_type": "execute_result"
    }
   ],
   "source": [
    "# Method 2:\n",
    "df['Births'].max()"
   ]
  },
  {
   "cell_type": "code",
   "execution_count": 33,
   "metadata": {
    "collapsed": false
   },
   "outputs": [
    {
     "name": "stdout",
     "output_type": "stream",
     "text": [
      "The most popular name\n"
     ]
    },
    {
     "data": {
      "text/html": [
       "<div>\n",
       "<table border=\"1\" class=\"dataframe\">\n",
       "  <thead>\n",
       "    <tr style=\"text-align: right;\">\n",
       "      <th></th>\n",
       "      <th>Names</th>\n",
       "      <th>Births</th>\n",
       "    </tr>\n",
       "  </thead>\n",
       "  <tbody>\n",
       "    <tr>\n",
       "      <th>4</th>\n",
       "      <td>Mel</td>\n",
       "      <td>973</td>\n",
       "    </tr>\n",
       "  </tbody>\n",
       "</table>\n",
       "</div>"
      ],
      "text/plain": [
       "  Names  Births\n",
       "4   Mel     973"
      ]
     },
     "execution_count": 33,
     "metadata": {},
     "output_type": "execute_result"
    },
    {
     "data": {
      "image/png": "[encoded data removed]",
      "text/plain": [
       "<matplotlib.figure.Figure at 0x925af60>"
      ]
     },
     "metadata": {},
     "output_type": "display_data"
    }
   ],
   "source": [
    "##PRESENT DATA\n",
    "# Create graph\n",
    "df['Births'].plot()\n",
    "plt.plot(df['Births'])\n",
    "\n",
    "# Maximum value in the data set\n",
    "MaxValue = df['Births'].max()\n",
    "\n",
    "# Name associated with the maximum value\n",
    "MaxName = df['Names'][df['Births'] == df['Births'].max()].values\n",
    "\n",
    "# Text to display on graph\n",
    "Text = str(MaxValue) + \" - \" + MaxName\n",
    "\n",
    "# Add text to graph\n",
    "plt.annotate(Text, xy=(1, MaxValue), xytext=(8, 0), \n",
    "                 xycoords=('axes fraction', 'data'), textcoords='offset points')\n",
    "\n",
    "print(\"The most popular name\")\n",
    "df[df['Births'] == df['Births'].max()]\n",
    "#Sorted.head(1) can also be used"
   ]
  }
 ],
 "metadata": {
  "kernelspec": {
   "display_name": "Python 2",
   "language": "python",
   "name": "python2"
  },
  "language_info": {
   "codemirror_mode": {
    "name": "ipython",
    "version": 2
   },
   "file_extension": ".py",
   "mimetype": "text/x-python",
   "name": "python",
   "nbconvert_exporter": "python",
   "pygments_lexer": "ipython2",
   "version": "2.7.11"
  }
 },
 "nbformat": 4,
 "nbformat_minor": 0
}
